{
 "cells": [
  {
   "cell_type": "markdown",
   "id": "2c0f9798",
   "metadata": {},
   "source": [
    "# 1. Library import"
   ]
  },
  {
   "cell_type": "code",
   "execution_count": 70,
   "id": "04047436",
   "metadata": {},
   "outputs": [],
   "source": [
    "import numpy as np\n",
    "import pandas as pd\n",
    "import matplotlib.pyplot as plt\n",
    "from sklearn.preprocessing import LabelEncoder,StandardScaler\n",
    "import joblib,pickle \n",
    "import warnings\n",
    "warnings.filterwarnings(\"ignore\")"
   ]
  },
  {
   "cell_type": "markdown",
   "id": "22d40893-50b2-45c6-a06b-3822efdebd2c",
   "metadata": {},
   "source": [
    "# 2.  Data reading"
   ]
  },
  {
   "cell_type": "code",
   "execution_count": 73,
   "id": "19f054fc-aaf3-4b27-b62e-d7a3dc2d485d",
   "metadata": {},
   "outputs": [],
   "source": [
    "def wrangle(filepath):\n",
    "    \n",
    "    # Read CSV file\n",
    "    df = pd.read_excel(filepath, skiprows = 1)\n",
    "    \n",
    "    return df\n",
    "# Now let's call our wrangle function on our csv file\n",
    "df = wrangle(\"events.xls\")"
   ]
  },
  {
   "cell_type": "code",
   "execution_count": 75,
   "id": "4b277f51",
   "metadata": {},
   "outputs": [],
   "source": [
    "def wrangle(filepath):\n",
    "    \n",
    "    # Read CSV file\n",
    "    df = pd.read_excel(filepath, skiprows = 1)\n",
    "    \n",
    "    # Fill nan value\n",
    "    #df.fillna(df.mean(),inplace=True)\n",
    "    \n",
    "    return df"
   ]
  },
  {
   "cell_type": "code",
   "execution_count": 77,
   "id": "2b979cd0-8217-47d5-83e1-3ce530429771",
   "metadata": {},
   "outputs": [],
   "source": [
    "# Now let's call our wrangle function on our csv file\n",
    "df = wrangle(\"events.xls\")"
   ]
  },
  {
   "cell_type": "code",
   "execution_count": 78,
   "id": "a8be01d4",
   "metadata": {},
   "outputs": [
    {
     "data": {
      "text/plain": [
       "Event                            object\n",
       "Program stage                    object\n",
       "Date d'administration CPS        object\n",
       "Stored by                        object\n",
       "Date d'enregistrement            object\n",
       "Incident date                    object\n",
       "Tracked entity instance          object\n",
       "Program instance                 object\n",
       "Geometry                        float64\n",
       "Longitude                       float64\n",
       "Latitude                        float64\n",
       "Organisation unit name           object\n",
       "Organisation unit code          float64\n",
       "Organisation unit                object\n",
       "Numero CPS                      float64\n",
       "Nom et Prénom                    object\n",
       "Sexe                             object\n",
       "Age de l'enfant ( en mois)      float64\n",
       "Numero du Cycle                  object\n",
       "Administration de traitement     object\n",
       "dtype: object"
      ]
     },
     "execution_count": 78,
     "metadata": {},
     "output_type": "execute_result"
    }
   ],
   "source": [
    "df.dtypes"
   ]
  },
  {
   "cell_type": "markdown",
   "id": "d0453aa7",
   "metadata": {},
   "source": [
    "# 3. EXploration and cleaning"
   ]
  },
  {
   "cell_type": "code",
   "execution_count": null,
   "id": "c8c9be58",
   "metadata": {},
   "outputs": [],
   "source": []
  },
  {
   "cell_type": "code",
   "execution_count": 83,
   "id": "cafca15d",
   "metadata": {},
   "outputs": [
    {
     "data": {
      "text/html": [
       "<div>\n",
       "<style scoped>\n",
       "    .dataframe tbody tr th:only-of-type {\n",
       "        vertical-align: middle;\n",
       "    }\n",
       "\n",
       "    .dataframe tbody tr th {\n",
       "        vertical-align: top;\n",
       "    }\n",
       "\n",
       "    .dataframe thead th {\n",
       "        text-align: right;\n",
       "    }\n",
       "</style>\n",
       "<table border=\"1\" class=\"dataframe\">\n",
       "  <thead>\n",
       "    <tr style=\"text-align: right;\">\n",
       "      <th></th>\n",
       "      <th>Event</th>\n",
       "      <th>Program stage</th>\n",
       "      <th>Date d'administration CPS</th>\n",
       "      <th>Stored by</th>\n",
       "      <th>Date d'enregistrement</th>\n",
       "      <th>Incident date</th>\n",
       "      <th>Tracked entity instance</th>\n",
       "      <th>Program instance</th>\n",
       "      <th>Geometry</th>\n",
       "      <th>Longitude</th>\n",
       "      <th>Latitude</th>\n",
       "      <th>Organisation unit name</th>\n",
       "      <th>Organisation unit code</th>\n",
       "      <th>Organisation unit</th>\n",
       "      <th>Numero CPS</th>\n",
       "      <th>Nom et Prénom</th>\n",
       "      <th>Sexe</th>\n",
       "      <th>Age de l'enfant ( en mois)</th>\n",
       "      <th>Numero du Cycle</th>\n",
       "      <th>Administration de traitement</th>\n",
       "    </tr>\n",
       "  </thead>\n",
       "  <tbody>\n",
       "    <tr>\n",
       "      <th>0</th>\n",
       "      <td>D1p9W1Fk3g5</td>\n",
       "      <td>EXVIJe6DWCx</td>\n",
       "      <td>2024-09-11 00:00:00.0</td>\n",
       "      <td>waliaordredemalte13</td>\n",
       "      <td>2024-07-15 00:00:00.0</td>\n",
       "      <td>2024-07-16 11:36:24.926</td>\n",
       "      <td>ZfmDuLTULPc</td>\n",
       "      <td>PtsnyEE5S0A</td>\n",
       "      <td>NaN</td>\n",
       "      <td>0.0</td>\n",
       "      <td>0.0</td>\n",
       "      <td>WALIA ORDRE DE MALTE13</td>\n",
       "      <td>NaN</td>\n",
       "      <td>J7tDeeI34g9</td>\n",
       "      <td>2190335.0</td>\n",
       "      <td>hadje dama</td>\n",
       "      <td>Féminin</td>\n",
       "      <td>15.0</td>\n",
       "      <td>3eme cycle</td>\n",
       "      <td>Oui</td>\n",
       "    </tr>\n",
       "    <tr>\n",
       "      <th>1</th>\n",
       "      <td>JACkmZeFKxp</td>\n",
       "      <td>EXVIJe6DWCx</td>\n",
       "      <td>2024-09-11 00:00:00.0</td>\n",
       "      <td>waliaordredemalte11</td>\n",
       "      <td>2024-07-16 00:00:00.0</td>\n",
       "      <td>2024-07-16 12:31:46.591</td>\n",
       "      <td>ZiJGlqgXZUq</td>\n",
       "      <td>IQhLQVKXNqP</td>\n",
       "      <td>NaN</td>\n",
       "      <td>0.0</td>\n",
       "      <td>0.0</td>\n",
       "      <td>WALIA ORDRE DE MALTE11</td>\n",
       "      <td>NaN</td>\n",
       "      <td>vRP8gERmj6A</td>\n",
       "      <td>2190011.0</td>\n",
       "      <td>Checelin Madji</td>\n",
       "      <td>Masculin</td>\n",
       "      <td>30.0</td>\n",
       "      <td>3eme cycle</td>\n",
       "      <td>Oui</td>\n",
       "    </tr>\n",
       "    <tr>\n",
       "      <th>2</th>\n",
       "      <td>QvMufadeUXP</td>\n",
       "      <td>EXVIJe6DWCx</td>\n",
       "      <td>2024-09-11 00:00:00.0</td>\n",
       "      <td>waliaordredemalte13</td>\n",
       "      <td>2024-07-15 00:00:00.0</td>\n",
       "      <td>2024-07-16 11:36:29.992</td>\n",
       "      <td>z9HZ5hamlV5</td>\n",
       "      <td>sjh4KOoRBWH</td>\n",
       "      <td>NaN</td>\n",
       "      <td>0.0</td>\n",
       "      <td>0.0</td>\n",
       "      <td>WALIA ORDRE DE MALTE13</td>\n",
       "      <td>NaN</td>\n",
       "      <td>J7tDeeI34g9</td>\n",
       "      <td>2190391.0</td>\n",
       "      <td>Hussein</td>\n",
       "      <td>Masculin</td>\n",
       "      <td>48.0</td>\n",
       "      <td>3eme cycle</td>\n",
       "      <td>Oui</td>\n",
       "    </tr>\n",
       "    <tr>\n",
       "      <th>3</th>\n",
       "      <td>lPFz2NSde2x</td>\n",
       "      <td>EXVIJe6DWCx</td>\n",
       "      <td>2024-09-11 00:00:00.0</td>\n",
       "      <td>waliaordredemalte13</td>\n",
       "      <td>2024-07-15 00:00:00.0</td>\n",
       "      <td>2024-07-16 11:36:24.992</td>\n",
       "      <td>qCQQ4bl5rUa</td>\n",
       "      <td>cQGm6nNb8SZ</td>\n",
       "      <td>NaN</td>\n",
       "      <td>0.0</td>\n",
       "      <td>0.0</td>\n",
       "      <td>WALIA ORDRE DE MALTE13</td>\n",
       "      <td>NaN</td>\n",
       "      <td>J7tDeeI34g9</td>\n",
       "      <td>2190340.0</td>\n",
       "      <td>Adama</td>\n",
       "      <td>Féminin</td>\n",
       "      <td>51.0</td>\n",
       "      <td>3eme cycle</td>\n",
       "      <td>Oui</td>\n",
       "    </tr>\n",
       "    <tr>\n",
       "      <th>4</th>\n",
       "      <td>LPlwxLScxwu</td>\n",
       "      <td>EXVIJe6DWCx</td>\n",
       "      <td>2024-09-11 00:00:00.0</td>\n",
       "      <td>waliaordredemalte13</td>\n",
       "      <td>2024-07-16 00:00:00.0</td>\n",
       "      <td>2024-07-17 15:39:53.827</td>\n",
       "      <td>jdYYHBiJqap</td>\n",
       "      <td>LuDz9VDavBv</td>\n",
       "      <td>NaN</td>\n",
       "      <td>0.0</td>\n",
       "      <td>0.0</td>\n",
       "      <td>WALIA ORDRE DE MALTE13</td>\n",
       "      <td>NaN</td>\n",
       "      <td>J7tDeeI34g9</td>\n",
       "      <td>2190573.0</td>\n",
       "      <td>madji nouba</td>\n",
       "      <td>Masculin</td>\n",
       "      <td>13.0</td>\n",
       "      <td>3eme cycle</td>\n",
       "      <td>Oui</td>\n",
       "    </tr>\n",
       "  </tbody>\n",
       "</table>\n",
       "</div>"
      ],
      "text/plain": [
       "         Event Program stage Date d'administration CPS            Stored by  \\\n",
       "0  D1p9W1Fk3g5   EXVIJe6DWCx     2024-09-11 00:00:00.0  waliaordredemalte13   \n",
       "1  JACkmZeFKxp   EXVIJe6DWCx     2024-09-11 00:00:00.0  waliaordredemalte11   \n",
       "2  QvMufadeUXP   EXVIJe6DWCx     2024-09-11 00:00:00.0  waliaordredemalte13   \n",
       "3  lPFz2NSde2x   EXVIJe6DWCx     2024-09-11 00:00:00.0  waliaordredemalte13   \n",
       "4  LPlwxLScxwu   EXVIJe6DWCx     2024-09-11 00:00:00.0  waliaordredemalte13   \n",
       "\n",
       "   Date d'enregistrement            Incident date Tracked entity instance  \\\n",
       "0  2024-07-15 00:00:00.0  2024-07-16 11:36:24.926             ZfmDuLTULPc   \n",
       "1  2024-07-16 00:00:00.0  2024-07-16 12:31:46.591             ZiJGlqgXZUq   \n",
       "2  2024-07-15 00:00:00.0  2024-07-16 11:36:29.992             z9HZ5hamlV5   \n",
       "3  2024-07-15 00:00:00.0  2024-07-16 11:36:24.992             qCQQ4bl5rUa   \n",
       "4  2024-07-16 00:00:00.0  2024-07-17 15:39:53.827             jdYYHBiJqap   \n",
       "\n",
       "  Program instance  Geometry  Longitude  Latitude  Organisation unit name  \\\n",
       "0      PtsnyEE5S0A       NaN        0.0       0.0  WALIA ORDRE DE MALTE13   \n",
       "1      IQhLQVKXNqP       NaN        0.0       0.0  WALIA ORDRE DE MALTE11   \n",
       "2      sjh4KOoRBWH       NaN        0.0       0.0  WALIA ORDRE DE MALTE13   \n",
       "3      cQGm6nNb8SZ       NaN        0.0       0.0  WALIA ORDRE DE MALTE13   \n",
       "4      LuDz9VDavBv       NaN        0.0       0.0  WALIA ORDRE DE MALTE13   \n",
       "\n",
       "   Organisation unit code Organisation unit  Numero CPS   Nom et Prénom  \\\n",
       "0                     NaN       J7tDeeI34g9   2190335.0      hadje dama   \n",
       "1                     NaN       vRP8gERmj6A   2190011.0  Checelin Madji   \n",
       "2                     NaN       J7tDeeI34g9   2190391.0         Hussein   \n",
       "3                     NaN       J7tDeeI34g9   2190340.0           Adama   \n",
       "4                     NaN       J7tDeeI34g9   2190573.0     madji nouba   \n",
       "\n",
       "       Sexe  Age de l'enfant ( en mois) Numero du Cycle  \\\n",
       "0   Féminin                        15.0      3eme cycle   \n",
       "1  Masculin                        30.0      3eme cycle   \n",
       "2  Masculin                        48.0      3eme cycle   \n",
       "3   Féminin                        51.0      3eme cycle   \n",
       "4  Masculin                        13.0      3eme cycle   \n",
       "\n",
       "  Administration de traitement  \n",
       "0                          Oui  \n",
       "1                          Oui  \n",
       "2                          Oui  \n",
       "3                          Oui  \n",
       "4                          Oui  "
      ]
     },
     "execution_count": 83,
     "metadata": {},
     "output_type": "execute_result"
    }
   ],
   "source": [
    "df.head()"
   ]
  },
  {
   "cell_type": "code",
   "execution_count": 85,
   "id": "3402b1f1-39c9-4a1e-a083-269b1664523b",
   "metadata": {},
   "outputs": [
    {
     "data": {
      "text/plain": [
       "['Event',\n",
       " 'Program stage',\n",
       " \"Date d'administration CPS\",\n",
       " 'Stored by',\n",
       " \"Date d'enregistrement\",\n",
       " 'Incident date',\n",
       " 'Tracked entity instance',\n",
       " 'Program instance',\n",
       " 'Geometry',\n",
       " 'Longitude',\n",
       " 'Latitude',\n",
       " 'Organisation unit name',\n",
       " 'Organisation unit code',\n",
       " 'Organisation unit',\n",
       " 'Numero CPS',\n",
       " 'Nom et Prénom',\n",
       " 'Sexe',\n",
       " \"Age de l'enfant ( en mois)\",\n",
       " 'Numero du Cycle',\n",
       " 'Administration de traitement']"
      ]
     },
     "execution_count": 85,
     "metadata": {},
     "output_type": "execute_result"
    }
   ],
   "source": [
    "df.columns.tolist()"
   ]
  },
  {
   "cell_type": "markdown",
   "id": "90ecda54",
   "metadata": {},
   "source": [
    "Supprimons la colonne ID"
   ]
  },
  {
   "cell_type": "code",
   "execution_count": 88,
   "id": "155402bc",
   "metadata": {},
   "outputs": [],
   "source": [
    "df.drop(columns = ['Event',\n",
    " 'Program stage',\n",
    " 'Tracked entity instance',\n",
    " 'Program instance',\n",
    "'Incident date',\n",
    " 'Geometry',\n",
    " 'Longitude',\n",
    " 'Latitude',\n",
    " 'Organisation unit name',\n",
    " 'Organisation unit code',\n",
    " 'Organisation unit',\n",
    " 'Nom et Prénom',\n",
    " 'Sexe',\n",
    " \"Age de l'enfant ( en mois)\"], \n",
    "        inplace=True, axis=1)"
   ]
  },
  {
   "cell_type": "code",
   "execution_count": 90,
   "id": "7c734f7b",
   "metadata": {
    "scrolled": true
   },
   "outputs": [
    {
     "data": {
      "text/html": [
       "<div>\n",
       "<style scoped>\n",
       "    .dataframe tbody tr th:only-of-type {\n",
       "        vertical-align: middle;\n",
       "    }\n",
       "\n",
       "    .dataframe tbody tr th {\n",
       "        vertical-align: top;\n",
       "    }\n",
       "\n",
       "    .dataframe thead th {\n",
       "        text-align: right;\n",
       "    }\n",
       "</style>\n",
       "<table border=\"1\" class=\"dataframe\">\n",
       "  <thead>\n",
       "    <tr style=\"text-align: right;\">\n",
       "      <th></th>\n",
       "      <th>Date d'administration CPS</th>\n",
       "      <th>Stored by</th>\n",
       "      <th>Date d'enregistrement</th>\n",
       "      <th>Numero CPS</th>\n",
       "      <th>Numero du Cycle</th>\n",
       "      <th>Administration de traitement</th>\n",
       "    </tr>\n",
       "  </thead>\n",
       "  <tbody>\n",
       "    <tr>\n",
       "      <th>0</th>\n",
       "      <td>2024-09-11 00:00:00.0</td>\n",
       "      <td>waliaordredemalte13</td>\n",
       "      <td>2024-07-15 00:00:00.0</td>\n",
       "      <td>2190335.0</td>\n",
       "      <td>3eme cycle</td>\n",
       "      <td>Oui</td>\n",
       "    </tr>\n",
       "    <tr>\n",
       "      <th>1</th>\n",
       "      <td>2024-09-11 00:00:00.0</td>\n",
       "      <td>waliaordredemalte11</td>\n",
       "      <td>2024-07-16 00:00:00.0</td>\n",
       "      <td>2190011.0</td>\n",
       "      <td>3eme cycle</td>\n",
       "      <td>Oui</td>\n",
       "    </tr>\n",
       "    <tr>\n",
       "      <th>2</th>\n",
       "      <td>2024-09-11 00:00:00.0</td>\n",
       "      <td>waliaordredemalte13</td>\n",
       "      <td>2024-07-15 00:00:00.0</td>\n",
       "      <td>2190391.0</td>\n",
       "      <td>3eme cycle</td>\n",
       "      <td>Oui</td>\n",
       "    </tr>\n",
       "    <tr>\n",
       "      <th>3</th>\n",
       "      <td>2024-09-11 00:00:00.0</td>\n",
       "      <td>waliaordredemalte13</td>\n",
       "      <td>2024-07-15 00:00:00.0</td>\n",
       "      <td>2190340.0</td>\n",
       "      <td>3eme cycle</td>\n",
       "      <td>Oui</td>\n",
       "    </tr>\n",
       "    <tr>\n",
       "      <th>4</th>\n",
       "      <td>2024-09-11 00:00:00.0</td>\n",
       "      <td>waliaordredemalte13</td>\n",
       "      <td>2024-07-16 00:00:00.0</td>\n",
       "      <td>2190573.0</td>\n",
       "      <td>3eme cycle</td>\n",
       "      <td>Oui</td>\n",
       "    </tr>\n",
       "    <tr>\n",
       "      <th>...</th>\n",
       "      <td>...</td>\n",
       "      <td>...</td>\n",
       "      <td>...</td>\n",
       "      <td>...</td>\n",
       "      <td>...</td>\n",
       "      <td>...</td>\n",
       "    </tr>\n",
       "    <tr>\n",
       "      <th>4687</th>\n",
       "      <td>2024-09-12 00:00:00.0</td>\n",
       "      <td>waliaordredemalte18</td>\n",
       "      <td>2024-09-12 00:00:00.0</td>\n",
       "      <td>2182724.0</td>\n",
       "      <td>3eme cycle</td>\n",
       "      <td>Oui</td>\n",
       "    </tr>\n",
       "    <tr>\n",
       "      <th>4688</th>\n",
       "      <td>2024-09-12 00:00:00.0</td>\n",
       "      <td>waliaordredemalte18</td>\n",
       "      <td>2024-09-12 00:00:00.0</td>\n",
       "      <td>2182723.0</td>\n",
       "      <td>3eme cycle</td>\n",
       "      <td>Oui</td>\n",
       "    </tr>\n",
       "    <tr>\n",
       "      <th>4689</th>\n",
       "      <td>2024-09-12 00:00:00.0</td>\n",
       "      <td>waliaordredemalte18</td>\n",
       "      <td>2024-09-12 00:00:00.0</td>\n",
       "      <td>2182735.0</td>\n",
       "      <td>3eme cycle</td>\n",
       "      <td>Oui</td>\n",
       "    </tr>\n",
       "    <tr>\n",
       "      <th>4690</th>\n",
       "      <td>2024-09-12 00:00:00.0</td>\n",
       "      <td>waliaordredemalte18</td>\n",
       "      <td>2024-09-12 00:00:00.0</td>\n",
       "      <td>2182830.0</td>\n",
       "      <td>3eme cycle</td>\n",
       "      <td>Oui</td>\n",
       "    </tr>\n",
       "    <tr>\n",
       "      <th>4691</th>\n",
       "      <td>2024-09-12 00:00:00.0</td>\n",
       "      <td>waliaordredemalte18</td>\n",
       "      <td>2024-09-12 00:00:00.0</td>\n",
       "      <td>3664493.0</td>\n",
       "      <td>3eme cycle</td>\n",
       "      <td>Oui</td>\n",
       "    </tr>\n",
       "  </tbody>\n",
       "</table>\n",
       "<p>4692 rows × 6 columns</p>\n",
       "</div>"
      ],
      "text/plain": [
       "     Date d'administration CPS            Stored by  Date d'enregistrement  \\\n",
       "0        2024-09-11 00:00:00.0  waliaordredemalte13  2024-07-15 00:00:00.0   \n",
       "1        2024-09-11 00:00:00.0  waliaordredemalte11  2024-07-16 00:00:00.0   \n",
       "2        2024-09-11 00:00:00.0  waliaordredemalte13  2024-07-15 00:00:00.0   \n",
       "3        2024-09-11 00:00:00.0  waliaordredemalte13  2024-07-15 00:00:00.0   \n",
       "4        2024-09-11 00:00:00.0  waliaordredemalte13  2024-07-16 00:00:00.0   \n",
       "...                        ...                  ...                    ...   \n",
       "4687     2024-09-12 00:00:00.0  waliaordredemalte18  2024-09-12 00:00:00.0   \n",
       "4688     2024-09-12 00:00:00.0  waliaordredemalte18  2024-09-12 00:00:00.0   \n",
       "4689     2024-09-12 00:00:00.0  waliaordredemalte18  2024-09-12 00:00:00.0   \n",
       "4690     2024-09-12 00:00:00.0  waliaordredemalte18  2024-09-12 00:00:00.0   \n",
       "4691     2024-09-12 00:00:00.0  waliaordredemalte18  2024-09-12 00:00:00.0   \n",
       "\n",
       "      Numero CPS Numero du Cycle Administration de traitement  \n",
       "0      2190335.0      3eme cycle                          Oui  \n",
       "1      2190011.0      3eme cycle                          Oui  \n",
       "2      2190391.0      3eme cycle                          Oui  \n",
       "3      2190340.0      3eme cycle                          Oui  \n",
       "4      2190573.0      3eme cycle                          Oui  \n",
       "...          ...             ...                          ...  \n",
       "4687   2182724.0      3eme cycle                          Oui  \n",
       "4688   2182723.0      3eme cycle                          Oui  \n",
       "4689   2182735.0      3eme cycle                          Oui  \n",
       "4690   2182830.0      3eme cycle                          Oui  \n",
       "4691   3664493.0      3eme cycle                          Oui  \n",
       "\n",
       "[4692 rows x 6 columns]"
      ]
     },
     "execution_count": 90,
     "metadata": {},
     "output_type": "execute_result"
    }
   ],
   "source": [
    "df"
   ]
  },
  {
   "cell_type": "code",
   "execution_count": null,
   "id": "12723521-26f3-47b0-bee9-ff81460f320d",
   "metadata": {},
   "outputs": [],
   "source": []
  },
  {
   "cell_type": "code",
   "execution_count": 93,
   "id": "d469aafd",
   "metadata": {},
   "outputs": [],
   "source": [
    "# Convert the column \"Numero CPS\" to integers.\n",
    "df['Numero CPS'] = df['Numero CPS'].astype('Int64') "
   ]
  },
  {
   "cell_type": "markdown",
   "id": "fed5936c",
   "metadata": {},
   "source": [
    "Voyons le nombre de différentes de la colonne classe :"
   ]
  },
  {
   "cell_type": "code",
   "execution_count": 96,
   "id": "f78d3533",
   "metadata": {},
   "outputs": [
    {
     "data": {
      "text/plain": [
       "Numero du Cycle\n",
       "3eme cycle    4614\n",
       "2eme cycle      59\n",
       "1er cycle        1\n",
       "4eme cycle       1\n",
       "Name: count, dtype: int64"
      ]
     },
     "execution_count": 96,
     "metadata": {},
     "output_type": "execute_result"
    }
   ],
   "source": [
    "df['Numero du Cycle'].value_counts()"
   ]
  },
  {
   "cell_type": "markdown",
   "id": "aeb501ff-9941-4926-8c25-9a13e30d7ce5",
   "metadata": {},
   "source": [
    "## See the number of null value"
   ]
  },
  {
   "cell_type": "code",
   "execution_count": 99,
   "id": "91c08c0e",
   "metadata": {},
   "outputs": [
    {
     "data": {
      "text/plain": [
       "Date d'administration CPS        0\n",
       "Stored by                        0\n",
       "Date d'enregistrement            0\n",
       "Numero CPS                       2\n",
       "Numero du Cycle                 17\n",
       "Administration de traitement     1\n",
       "dtype: int64"
      ]
     },
     "execution_count": 99,
     "metadata": {},
     "output_type": "execute_result"
    }
   ],
   "source": [
    "df.isnull().sum()"
   ]
  },
  {
   "cell_type": "markdown",
   "id": "d2547817-b46d-4f43-9b15-2bc6ebd66640",
   "metadata": {},
   "source": [
    "## FIlter all \"Numero CPS\" whom \"Numero du Cycle\" is null"
   ]
  },
  {
   "cell_type": "code",
   "execution_count": 108,
   "id": "e713fef7-5eca-4a95-ba2e-a294684ee546",
   "metadata": {},
   "outputs": [
    {
     "data": {
      "text/html": [
       "<div>\n",
       "<style scoped>\n",
       "    .dataframe tbody tr th:only-of-type {\n",
       "        vertical-align: middle;\n",
       "    }\n",
       "\n",
       "    .dataframe tbody tr th {\n",
       "        vertical-align: top;\n",
       "    }\n",
       "\n",
       "    .dataframe thead th {\n",
       "        text-align: right;\n",
       "    }\n",
       "</style>\n",
       "<table border=\"1\" class=\"dataframe\">\n",
       "  <thead>\n",
       "    <tr style=\"text-align: right;\">\n",
       "      <th></th>\n",
       "      <th>Stored by</th>\n",
       "      <th>Numero CPS</th>\n",
       "    </tr>\n",
       "  </thead>\n",
       "  <tbody>\n",
       "    <tr>\n",
       "      <th>0</th>\n",
       "      <td>waliaordredemalte14</td>\n",
       "      <td>[2191357, 2191541, 2191280, 2191252, 2191338, ...</td>\n",
       "    </tr>\n",
       "    <tr>\n",
       "      <th>1</th>\n",
       "      <td>waliaordredemalte15</td>\n",
       "      <td>[2190773]</td>\n",
       "    </tr>\n",
       "    <tr>\n",
       "      <th>2</th>\n",
       "      <td>waliaordredemalte20</td>\n",
       "      <td>[2176479]</td>\n",
       "    </tr>\n",
       "    <tr>\n",
       "      <th>3</th>\n",
       "      <td>waliaordredemalte8</td>\n",
       "      <td>[2184620]</td>\n",
       "    </tr>\n",
       "  </tbody>\n",
       "</table>\n",
       "</div>"
      ],
      "text/plain": [
       "             Stored by                                         Numero CPS\n",
       "0  waliaordredemalte14  [2191357, 2191541, 2191280, 2191252, 2191338, ...\n",
       "1  waliaordredemalte15                                          [2190773]\n",
       "2  waliaordredemalte20                                          [2176479]\n",
       "3   waliaordredemalte8                                          [2184620]"
      ]
     },
     "execution_count": 108,
     "metadata": {},
     "output_type": "execute_result"
    }
   ],
   "source": [
    "# Filter all null value of \"Numero du Cycle\" grouped by \"Stored by\")\n",
    "def filter_na_cycle(df):\n",
    "    filtered_df = df[df['Numero du Cycle'].isna()]\n",
    "    result = filtered_df.groupby('Stored by')['Numero CPS'].apply(list).reset_index()\n",
    "    result.to_csv(\"Equipe_With_null_values/equip_with_null_value.csv\")\n",
    "    return result\n",
    "filter_na_cycle(df)\n",
    "\n",
    "\n",
    "\n"
   ]
  },
  {
   "cell_type": "markdown",
   "id": "f8330391-716f-4211-8a10-a948f80f63fd",
   "metadata": {},
   "source": [
    "## Extract and save each equip that has null value in Cycle. "
   ]
  },
  {
   "cell_type": "code",
   "execution_count": 111,
   "id": "704ca1ad-5922-41a1-adc1-1519589b791a",
   "metadata": {},
   "outputs": [],
   "source": [
    "import os\n",
    "\n",
    "def extract_equip_with_null_value(file):\n",
    "    # Load the dataset\n",
    "    df_equipe_with_null_values = pd.read_csv(file)\n",
    "    \n",
    "    # Directory to save the text files\n",
    "    output_directory = 'Equipe_With_null_values'  # Adjust path if necessary\n",
    "    \n",
    "    # Ensure the output directory exists\n",
    "    os.makedirs(output_directory, exist_ok=True)\n",
    "    \n",
    "    # Remove the first column\n",
    "    #df_equipe_with_null_values = df_equipe_with_null_values.iloc[:, 1:]\n",
    "    \n",
    "    # Iterate over each row and save to a text file\n",
    "    for index, row in df_equipe_with_null_values.iterrows():\n",
    "        # Create a filename based on the value of the first column (from original CSV)\n",
    "        file_name = os.path.join(output_directory, f'{row.iloc[1]}.txt')\n",
    "        \n",
    "        # Write the content of the row to the text file\n",
    "        try:\n",
    "            with open(file_name, 'w') as file:\n",
    "                # Join all columns in the row with a comma and write to the file\n",
    "                file.write(','.join(map(str, row.iloc[1:])))\n",
    "        except Exception as e:\n",
    "            print(f\"Error writing file {file_name}: {e}\")\n",
    "\n",
    "# Call the function\n",
    "extract_equip_with_null_value(\"Equipe_With_null_values/equip_with_null_value.csv\")"
   ]
  },
  {
   "cell_type": "markdown",
   "id": "5c6cbfe2-bd1f-4c52-bd28-e5a4a4a5c202",
   "metadata": {},
   "source": [
    "### FInd all '4eme cycle' values introduced by error"
   ]
  },
  {
   "cell_type": "code",
   "execution_count": 118,
   "id": "a791141f-76fd-4d9d-a3e7-928464ff1e0f",
   "metadata": {},
   "outputs": [
    {
     "data": {
      "text/html": [
       "<div>\n",
       "<style scoped>\n",
       "    .dataframe tbody tr th:only-of-type {\n",
       "        vertical-align: middle;\n",
       "    }\n",
       "\n",
       "    .dataframe tbody tr th {\n",
       "        vertical-align: top;\n",
       "    }\n",
       "\n",
       "    .dataframe thead th {\n",
       "        text-align: right;\n",
       "    }\n",
       "</style>\n",
       "<table border=\"1\" class=\"dataframe\">\n",
       "  <thead>\n",
       "    <tr style=\"text-align: right;\">\n",
       "      <th></th>\n",
       "      <th>Stored by</th>\n",
       "      <th>Numero CPS</th>\n",
       "    </tr>\n",
       "  </thead>\n",
       "  <tbody>\n",
       "    <tr>\n",
       "      <th>0</th>\n",
       "      <td>waliaordredemalte23</td>\n",
       "      <td>[2184341]</td>\n",
       "    </tr>\n",
       "  </tbody>\n",
       "</table>\n",
       "</div>"
      ],
      "text/plain": [
       "             Stored by Numero CPS\n",
       "0  waliaordredemalte23  [2184341]"
      ]
     },
     "execution_count": 118,
     "metadata": {},
     "output_type": "execute_result"
    }
   ],
   "source": [
    "def find_cycle_4_outlier():\n",
    "    filtered_df = df[df['Numero du Cycle'] == '4eme cycle']\n",
    "    result = filtered_df.groupby('Stored by')['Numero CPS'].apply(list).reset_index()\n",
    "    result.to_csv(\"Equipe_With_4_cycle_Error/equip_with_4e_cycle_error.csv\")\n",
    "    return result\n",
    "find_cycle_4_outlier()\n",
    "    "
   ]
  },
  {
   "cell_type": "markdown",
   "id": "f40a1f66-3bf9-4ae0-817f-334d24177ac9",
   "metadata": {},
   "source": [
    "## Filter all null value of \"Numero du Cycle\" grouped by \"Stored by\"."
   ]
  },
  {
   "cell_type": "code",
   "execution_count": null,
   "id": "1a804a49-193a-4b57-b2e4-75cd354c6733",
   "metadata": {},
   "outputs": [],
   "source": [
    "# Filter all null value of \"Numero du Cycle\" grouped by \"Stored by\")\n",
    "def filter_na_cycle(df):\n",
    "    filtered_df = df[df['Numero du Cycle'].isna()]\n",
    "    result = filtered_df.groupby('Stored by')['Numero CPS'].apply(list).reset_index()\n",
    "    result.to_csv(\"Equipe_With_null_values/equip_with_null_value.csv\")\n",
    "    return result\n",
    "filter_na_cycle(df)\n",
    "\n",
    "\n",
    "\n"
   ]
  },
  {
   "cell_type": "markdown",
   "id": "b52a2973-875e-4d7e-a63d-e4b7930839cb",
   "metadata": {},
   "source": [
    "## Filter all duplicated events grouped by \"Stored by\"."
   ]
  },
  {
   "cell_type": "code",
   "execution_count": null,
   "id": "b5b391d3",
   "metadata": {},
   "outputs": [],
   "source": [
    "# Filter all equip with duplicated values\n",
    "def filter_duplicated_event(df):\n",
    "    filtered_df = df[df.duplicated()]\n",
    "    result = filtered_df.groupby('Stored by')['Numero CPS'].apply(list).reset_index()\n",
    "    result.to_csv(\"Equipe_With_duplicated_events/equip_with_duplicated_event.csv\")\n",
    "    return result\n",
    "filter_duplicated_event(df)\n"
   ]
  },
  {
   "cell_type": "code",
   "execution_count": null,
   "id": "efac6e3f-2855-4764-8796-37346ac1b71a",
   "metadata": {},
   "outputs": [],
   "source": [
    "\n",
    "def save_duplicated_event_per_equip(file):\n",
    "    # Load the dataset\n",
    "    df_equipe_with_duplicated_events = pd.read_csv(file)\n",
    "    \n",
    "    # Directory to save the text files\n",
    "    output_directory = 'Equipe_With_duplicated_events'  # Adjust path if necessary\n",
    "    \n",
    "    # Ensure the output directory exists\n",
    "    os.makedirs(output_directory, exist_ok=True)\n",
    "    \n",
    "    # Remove the first column\n",
    "    #df_equipe_with_null_values = df_equipe_with_null_values.iloc[:, 1:]\n",
    "    \n",
    "    # Iterate over each row and save to a text file\n",
    "    for index, row in df_equipe_with_duplicated_events.iterrows():\n",
    "        # Create a filename based on the value of the first column (from original CSV)\n",
    "        file_name = os.path.join(output_directory, f'{row.iloc[1]}.txt')\n",
    "        \n",
    "        # Write the content of the row to the text file\n",
    "        try:\n",
    "            with open(file_name, 'w') as file:\n",
    "                # Join all columns in the row with a comma and write to the file\n",
    "                file.write(','.join(map(str, row.iloc[1:])))\n",
    "        except Exception as e:\n",
    "            print(f\"Error writing file {file_name}: {e}\")\n",
    "\n",
    "# Call the function\n",
    "save_duplicated_event_per_equip(\"Equipe_With_duplicated_events/equip_with_duplicated_events.csv\")"
   ]
  },
  {
   "cell_type": "code",
   "execution_count": null,
   "id": "4e27e1c5",
   "metadata": {},
   "outputs": [],
   "source": [
    "df.shape"
   ]
  },
  {
   "cell_type": "code",
   "execution_count": null,
   "id": "cdd972e1-b839-448c-ad5d-00d51e6b1522",
   "metadata": {},
   "outputs": [],
   "source": []
  }
 ],
 "metadata": {
  "kernelspec": {
   "display_name": "Python 3 (ipykernel)",
   "language": "python",
   "name": "python3"
  },
  "language_info": {
   "codemirror_mode": {
    "name": "ipython",
    "version": 3
   },
   "file_extension": ".py",
   "mimetype": "text/x-python",
   "name": "python",
   "nbconvert_exporter": "python",
   "pygments_lexer": "ipython3",
   "version": "3.12.4"
  }
 },
 "nbformat": 4,
 "nbformat_minor": 5
}
